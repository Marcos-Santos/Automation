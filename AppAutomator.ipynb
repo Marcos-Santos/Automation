{
  "nbformat": 4,
  "nbformat_minor": 0,
  "metadata": {
    "colab": {
      "provenance": [],
      "mount_file_id": "1mlgYtXdDCEa9njCaQEzc7vPySGdh3Zp6",
      "authorship_tag": "ABX9TyNVpTT5iWdnhW79sXejd5yd",
      "include_colab_link": true
    },
    "kernelspec": {
      "name": "python3",
      "display_name": "Python 3"
    },
    "language_info": {
      "name": "python"
    }
  },
  "cells": [
    {
      "cell_type": "markdown",
      "metadata": {
        "id": "view-in-github",
        "colab_type": "text"
      },
      "source": [
        "<a href=\"https://colab.research.google.com/github/Marcos-Santos/Automation/blob/main/AppAutomator.ipynb\" target=\"_parent\"><img src=\"https://colab.research.google.com/assets/colab-badge.svg\" alt=\"Open In Colab\"/></a>"
      ]
    },
    {
      "cell_type": "markdown",
      "source": [
        "Programa Para Carregar Dados de Uma planilha e Realizar consulta em site html, depois Retornar valores da busca do site para uma nova planilha obedecendo condições.\n",
        "Program Automaion\n",
        "Creator: Marcos Ledo\n",
        "\n"
      ],
      "metadata": {
        "id": "E8T5CNOxPave"
      }
    },
    {
      "cell_type": "code",
      "execution_count": null,
      "metadata": {
        "id": "QgObbjCsPZ2K"
      },
      "outputs": [],
      "source": [
        "# Program Automaion\n",
        "\n",
        "# importar bibliotecas\n",
        "import selenium  as se\n",
        "#import pyautogui as pg\n",
        "#import sleep\n",
        "import os # biblioteca para trabalhar com Arquivos\n",
        "import pandas as pd # biblioteca para trabalhar com Base de Dados"
      ]
    },
    {
      "cell_type": "code",
      "source": [
        "# Criar GUI\n",
        "\n"
      ],
      "metadata": {
        "id": "8BimtzrHShxs"
      },
      "execution_count": null,
      "outputs": []
    },
    {
      "cell_type": "code",
      "source": [
        "# Tratar as Planilhas\n",
        "\n",
        "planilha_clientes = os.listdir ()"
      ],
      "metadata": {
        "id": "ncxCkdckS0yt"
      },
      "execution_count": null,
      "outputs": []
    }
  ]
}