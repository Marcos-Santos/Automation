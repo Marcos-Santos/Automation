{
  "nbformat": 4,
  "nbformat_minor": 0,
  "metadata": {
    "colab": {
      "provenance": [],
      "mount_file_id": "https://github.com/Marcos-Santos/Automation/blob/main/AppAutomator.ipynb",
      "authorship_tag": "ABX9TyPDSmdFPQa6NbmDRYn9+FDo",
      "include_colab_link": true
    },
    "kernelspec": {
      "name": "python3",
      "display_name": "Python 3"
    },
    "language_info": {
      "name": "python"
    }
  },
  "cells": [
    {
      "cell_type": "markdown",
      "metadata": {
        "id": "view-in-github",
        "colab_type": "text"
      },
      "source": [
        "<a href=\"https://colab.research.google.com/github/Marcos-Santos/Automation/blob/main/AppAutomator.ipynb\" target=\"_parent\"><img src=\"https://colab.research.google.com/assets/colab-badge.svg\" alt=\"Open In Colab\"/></a>"
      ]
    },
    {
      "cell_type": "markdown",
      "source": [
        "Programa Para Carregar Dados de Uma planilha e Realizar consulta em site html, depois Retornar valores da busca do site para uma nova planilha obedecendo condições.\n",
        "Program Automaion\n",
        "Creator: Marcos Ledo\n",
        "Ajuda: https://www.youtube.com/watch?v=4ZSWZg2daqQ\n"
      ],
      "metadata": {
        "id": "E8T5CNOxPave"
      }
    },
    {
      "cell_type": "code",
      "source": [
        "# instalar selenium\n",
        "\n",
        "!pip install selenium\n",
        "!apt-get update\n",
        "!apt install chromium-chromedriver\n",
        "!cp /usr/lib/chromium-browser/chromedriver /usr/bin"
      ],
      "metadata": {
        "id": "VL6-Wo0uk84t"
      },
      "execution_count": null,
      "outputs": []
    },
    {
      "cell_type": "code",
      "execution_count": 7,
      "metadata": {
        "id": "QgObbjCsPZ2K"
      },
      "outputs": [],
      "source": [
        "# Program Automaion\n",
        "\n",
        "# importar bibliotecas\n",
        "import openpyxl as op # biblioteca para trabalhar com Planilhas\n",
        "from selenium  import webdriver # biblioteca para acessar site\n",
        "from selenium.webdriver.common.by import By #complememto para poder pegar campos do site\n",
        "#import pyautogui as pg\n",
        "#import sleep\n",
        "import os # biblioteca para trabalhar com Arquivos\n",
        "import openpyxl as op # biblioteca para trabalhar com Planilhas\n",
        "#import pandas as pd # biblioteca para trabalhar com Base de Dados"
      ]
    },
    {
      "cell_type": "code",
      "source": [
        "# Criar GUI\n",
        "\n"
      ],
      "metadata": {
        "id": "8BimtzrHShxs"
      },
      "execution_count": null,
      "outputs": []
    },
    {
      "cell_type": "code",
      "source": [
        "# Tratar as Planilhas Clientes\n",
        "\n",
        "tabela_clientes = op.load_workbook (\"/content/drive/MyDrive/Colab Notebooks/AppAutomator/Dados_clientes.xlsx\")\n",
        "tabela_clientes = tabela_clientes['Sheet1']\n",
        "#display(tabela_clientes)\n",
        "\n",
        "for linhaPlanilha in tabela_clientes.iter_rows(min_row=2, values_only= True):\n",
        " nome, valor, cpf, vencimento = linhaPlanilha\n",
        " #print(nome, valor, cpf, vencimento)\n",
        " #print(\"**********\")\n",
        "\n",
        "\n"
      ],
      "metadata": {
        "id": "ncxCkdckS0yt"
      },
      "execution_count": null,
      "outputs": []
    },
    {
      "cell_type": "code",
      "source": [
        "# Manipilar web\n",
        "\n",
        "driver = webdriver.Chrome()\n"
      ],
      "metadata": {
        "id": "4qBYlxKWj0_3"
      },
      "execution_count": null,
      "outputs": []
    }
  ]
}